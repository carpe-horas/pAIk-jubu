{
  "cells": [
    {
      "cell_type": "code",
      "execution_count": 1,
      "metadata": {},
      "outputs": [],
      "source": [
        "! pip install -qU langchain_ollama"
      ]
    },
    {
      "cell_type": "code",
      "execution_count": 2,
      "metadata": {},
      "outputs": [],
      "source": [
        "from langchain_community.embeddings import OllamaEmbeddings\n",
        "ollama_emb = OllamaEmbeddings(\n",
        "    model=\"mxbai-embed-large\",\n",
        ")"
      ]
    },
    {
      "cell_type": "code",
      "execution_count": 3,
      "metadata": {},
      "outputs": [],
      "source": [
        "from langchain_text_splitters import RecursiveCharacterTextSplitter\n",
        "from langchain_community.document_loaders.csv_loader import CSVLoader\n",
        "from langchain_community.vectorstores import FAISS\n",
        "from langchain_core.output_parsers import StrOutputParser\n",
        "from langchain_core.runnables import RunnablePassthrough"
      ]
    },
    {
      "cell_type": "code",
      "execution_count": 4,
      "metadata": {},
      "outputs": [
        {
          "name": "stdout",
          "output_type": "stream",
          "text": [
            "Loaded 5612 documents from the csv.\n"
          ]
        }
      ],
      "source": [
        "loader = CSVLoader(file_path=\"recipies_add_dif-241019.csv\", encoding='utf-8')\n",
        "data = loader.load()\n",
        "print(f\"Loaded {len(data)} documents from the csv.\")"
      ]
    },
    {
      "cell_type": "code",
      "execution_count": 5,
      "metadata": {
        "colab": {
          "base_uri": "https://localhost:8080/"
        },
        "id": "9DAPLeIaAKQv",
        "outputId": "1256e97f-ebe5-4c52-ef8f-6e8f8fd91867"
      },
      "outputs": [
        {
          "name": "stdout",
          "output_type": "stream",
          "text": [
            "Current path: /Users/khuh/AI-Training/LLM-RAG\n"
          ]
        }
      ],
      "source": [
        "import os\n",
        "\n",
        "current_path = os.getcwd()\n",
        "print(\"Current path:\", current_path)\n",
        "\n",
        "# colab의 보안 비밀에 OPENAI_API_KEY를 등록해서 환경변수로 설정\n",
        "#from google.colab import userdata\n",
        "#\n",
        "#os.environ['OPENAI_API_KEY'] = userdata.get('OPENAI_API_KEY')"
      ]
    },
    {
      "cell_type": "code",
      "execution_count": 6,
      "metadata": {
        "colab": {
          "base_uri": "https://localhost:8080/"
        },
        "id": "h-ldy2GEXmIn",
        "outputId": "a79b578f-691f-4490-d065-abdabfd647db"
      },
      "outputs": [
        {
          "data": {
            "text/plain": [
              "5977"
            ]
          },
          "execution_count": 6,
          "metadata": {},
          "output_type": "execute_result"
        }
      ],
      "source": [
        "#위에서 불러온 csv 데이터 청크\n",
        "#RecursiveCharacterTextSplitter를 사용\n",
        "text_splitter = RecursiveCharacterTextSplitter(chunk_size=1000, chunk_overlap=100)\n",
        "\n",
        "splits = text_splitter.split_documents(data)\n",
        "len(splits)"
      ]
    },
    {
      "cell_type": "code",
      "execution_count": 7,
      "metadata": {
        "id": "EpQh4lDuY4Qo"
      },
      "outputs": [],
      "source": [
        "# 벡터스토어를 생성합니다.\n",
        "vectorstore = FAISS.from_documents(documents=splits, embedding=ollama_emb)\n",
        "\n",
        "# 백터스토어를 로컬에 저장합니다.\n",
        "# 7분 27.8초 소요\n",
        "vectorstore.save_local('./db/faiss5-ollama-mxbai')\n",
        "\n",
        "# 벡터스토리에서 검색하는 retriever를 만듭니다.\n",
        "retriever = vectorstore.as_retriever()\n",
        "# 소요시간 9m 14.6s"
      ]
    },
    {
      "cell_type": "code",
      "execution_count": null,
      "metadata": {},
      "outputs": [],
      "source": [
        "### 벡터스토어 불러오기\n",
        "#vectorstore = FAISS.load_local('./db/faiss5-ollama-mxbai', ollama_emb, allow_dangerous_deserialization=True)\n",
        "#retriever = vectorstore.as_retriever()"
      ]
    },
    {
      "cell_type": "code",
      "execution_count": 8,
      "metadata": {
        "colab": {
          "base_uri": "https://localhost:8080/"
        },
        "id": "U6yRBTgC2kgR",
        "outputId": "f6165d44-d730-4007-f8a8-b8e86e3d4deb"
      },
      "outputs": [
        {
          "name": "stdout",
          "output_type": "stream",
          "text": [
            "url: https://www.10000recipe.com//recipe/6880048\n",
            "reason: 이 요리는 간단하고 쉽게 만들 수 있는 나물 반찬입니다. 조리 시간이 15분이며, 재료의 양과 조리 방법이 적절히 설명되어 있습니다. 또한, 각 단계별로 구체적인 설명이 제공되어 초기부터 마지막까지 쉽게 이해할 수 있도록 돕습니다. 그러나 무침의 양념 부분에서 소금과 참기름 등의 양을 조절하는 것이 필요하다는 점을 명시해야 하는 등 조금 더 구체적인 조리 지침이 필요할 수 있습니다.\n",
            "difficulties: medium\n",
            "﻿title: 티타임에 어울리는 디저트  홍차 향을 담은 얼그레이 스콘만들기\n",
            "servings: 4 servings\n",
            "cooking_time: PT30H-1710M\n",
            "ingredients: 박력분 220g,베이킹파우더 8g,버터 50g,설탕 50g,소금 1꼬집,생크림 70g,우유 50g,홍차티백 2개,달걀물 약간\n",
            "cooking_orders: ['1. 볼에 홍차티백을 뜯어서 넣고 뜨거운 물 1큰술을 넣고 불린다.', '2. 설탕, 생크림, 우유, 홍차 불린 것을 넣고 섞는다.', '3. 푸드프로세서에 체친 가루재료, 소금, 차가운 버터를 넣고 돌린다.', '4. 가루가 보슬보슬하게 되면 볼에 옮긴 후 2를 넣고 스크래퍼로 섞는다.', '5. 한덩어리가 되면 랩으로 싸서 냉장고에서 1시간 이상 휴지시킨다.', '6. 휴지시킨 반죽을 2cm 두께로 밀어편 뒤 원하는 모양으로 자른다.', '7. 오븐팬에 반죽을 올리고 윗면에 달걀물을 발라준다.', '8. 220도로 예열된 오븐에 7분 굽고 200도로 내려7분 굽고 식힘망에 옮긴다.', '9. 구워진 스콘이 따뜻할 때 잼이나 버터를 곁들어 완성한다.']\n",
            "url: https://www.10000recipe.com//recipe/6932456\n",
            "reason: 조리 시간이 PT30H-1710M(약 3일 17시간 10분)로 매우 길며, 조리 단계가 9단계로 복잡하고, 여러 가지 재료와 단계가 복잡하게 섞여 있어 상급자들이 수행하기 어렵다고 판단하였습니다.\n",
            "difficulties: 중\n",
            "﻿title: 스테이크 빠네샌드위치   빠네빵으로 스테이크샌드위치 만들기\n",
            "servings: 2 servings\n",
            "cooking_time: PT20M\n",
            "ingredients: 빠네 빵 1개,소고기 200g,양파 1개,느타리 버섯 1줌,발사믹비네거 2숟가락,설탕 1숟가락,베이컨 2줄,체다치즈 3장,올리브유 약간,소금 약간,후추 약간,홀그레인 2숟가락,마요네즈 5숟가락,꿀 1숟가락,소금 약간,후추 약간\n",
            "cooking_orders: ['1. 소고기는 올리브유, 소금, 후추로 밑간을 한다.', '2. 팬에 올리브유를 두르고 채 썬 양파를 넣고 충분히 볶다가 발사믹비네거, 설탕, 소금, 후추를 넣고 양파볶음을 만든다.', '3. 달군 팬에 올리브유를 두르고 느타리버섯, 소고기, 베이컨을 각각 굽는다.', '4. 빠네 윗 부분을 잘라 속 안을 파낸다.', '5. 스프레드 재료를 섞는다.', '6. 빵 안에 스프레드를 발라 베이컨, 치즈, 양파볶음, 버섯볶음, 소고기를 넣고 완성한다.']\n",
            "url: https://www.10000recipe.com//recipe/6929432\n",
            "reason: 이 요리는 여러 단계의 복잡한 조리 과정과 다양한 재료를 요구하며, 특히 소고기와 느타리버섯을 볶아내는 과정은 기술적인 요소가 포함되어 있습니다. 또한, 소고기를 밑간하고 양파를 볶는 과정도 시간이 걸릴 수 있어 중급레시피에 해당합니다.\n",
            "difficulties: 중\n",
            "﻿title: 토마토육우볼   이것만 알면 다른요리도 끝\n",
            "servings: 2 servings\n",
            "cooking_time: PT30M\n",
            "ingredients: 소고기다짐육 200g,다진양파 3숟가락,다진대파 3숟가락,다진마늘 1숟가락,소금 약간,후추 약간,머스터드 1숟가락,케찹 1숟가락,빵가루 1/3종이컵,달걀 1/2개,삶은파스타 100g,버터 2숟가락,토마토소스 2종이컵,물 5숟가락,파마산치즈(블록) 약간,파슬리가루 약간\n",
            "cooking_orders: ['1. 미트볼 재료는 모두 섞는다.', '2. 탁구공정도 크기로 둥글게 모양을 만든다.', '3. 팬에 버터를 두르고 미트볼을 넣고 굴려가며 익힌다.', '4. 80% 정도 익은 미트볼은 빼둔다.', '5. 고기 익힌 팬에 토마토소스, 물을 넣고 끓으면 익힌 미트볼을 넣고 끓인다.', '6. 그릇에 삶은 파스타를 담고 미트볼을 담는다.', '7. 파마산치즈, 파슬리가루를 뿌려 완성한다.']\n",
            "url: https://www.10000recipe.com//recipe/6893438\n",
            "reason: 이 요리는 간단한 재료들로 구성되어 있으며, 모든 단계들이 명확하고 간결합니다. 재료들의 양과 양념 등이 상세히 나와 있어 초기 준비 단계에서 혼란이 없을 것입니다. 또한, 재료들을 섞는 단계부터 팬에 볶는 단계까지 각 단계들이 상당히 간단하고 명확합니다. 따라서 이 요리는 '중'난이도로 판단됩니다.\n",
            "difficulties: 중\n"
          ]
        },
        {
          "name": "stderr",
          "output_type": "stream",
          "text": [
            "/var/folders/py/mwpg_rm904g6ld02xtcmncwh0000gn/T/ipykernel_12703/101046714.py:12: LangChainDeprecationWarning: The method `BaseRetriever.get_relevant_documents` was deprecated in langchain-core 0.1.46 and will be removed in 1.0. Use :meth:`~invoke` instead.\n",
            "  results = retriever.get_relevant_documents(query)\n"
          ]
        }
      ],
      "source": [
        "### 백터스토어 작동 테스트\n",
        "# 검색 예시\n",
        "query = \"토마토\"\n",
        "results = retriever.get_relevant_documents(query)\n",
        "\n",
        "# 검색 결과 출력\n",
        "for result in results:\n",
        "    print(result.page_content)\n"
      ]
    },
    {
      "cell_type": "code",
      "execution_count": 10,
      "metadata": {
        "id": "QjGUxahS9JjE"
      },
      "outputs": [],
      "source": [
        "from langchain_core.prompts import PromptTemplate\n",
        "\n",
        "prompt = PromptTemplate.from_template(\n",
        "    \"\"\"당신은 질문-답변(Question-Answering)을 수행하는 친절한 AI 어시스턴트입니다. \n",
        "    당신의 임무는 주어진 문맥(context) 에서 주어진 질문(question) 에 답하는 것입니다.\n",
        "    검색된 다음 문맥(context) 을 사용하여 질문(question) 에 답하세요. \n",
        "    요리를 추천할 때는 3개의 가장 유사한 요리를 요리 제목과 함께 추천해주세요.\n",
        "    요리 방법을 답할때는 재료를 목록으로 요리 순서를 목록으로 출력하고 출처도 함께 표시해줘.\n",
        "    만약, 주어진 문맥(context) 에서 답을 찾을 수 없다면, 답을 모른다면 `주어진 정보에서 질문에 대한 정보를 찾을 수 없습니다` 라고 답하세요.\n",
        "    항상 한국어로 답변해주세요.\n",
        "\n",
        "#Question:\n",
        "{question}\n",
        "\n",
        "#Context:\n",
        "{context}\n",
        "\n",
        "#Answer:\"\"\"\n",
        ")"
      ]
    },
    {
      "cell_type": "code",
      "execution_count": 11,
      "metadata": {},
      "outputs": [],
      "source": [
        "from langchain_community.chat_models import ChatOllama\n",
        "\n",
        "llm = ChatOllama(\n",
        "    model=\"qwen2.5:3b\",\n",
        ")\n",
        "\n",
        "# 체인을 생성합니다.\n",
        "rag_chain = (\n",
        "    {\"context\": retriever, \"question\": RunnablePassthrough()}\n",
        "    | prompt\n",
        "    | llm\n",
        "    | StrOutputParser()\n",
        ")"
      ]
    },
    {
      "cell_type": "code",
      "execution_count": 19,
      "metadata": {
        "id": "Sd6ZVUhtpsb6"
      },
      "outputs": [],
      "source": [
        "# ChatGPT model 사용\n",
        "#llm = ChatOpenAI(model_name=\"gpt-4o-mini\", temperature=0)\n",
        "\n",
        "# 체인을 생성합니다.\n",
        "#rag_chain = (\n",
        "#    {\"context\": retriever, \"question\": RunnablePassthrough()}\n",
        "#    | prompt\n",
        "#    | llm\n",
        "#    | StrOutputParser()\n",
        "#)"
      ]
    },
    {
      "cell_type": "code",
      "execution_count": 12,
      "metadata": {
        "colab": {
          "base_uri": "https://localhost:8080/"
        },
        "id": "XQJesWygqGdt",
        "outputId": "6604527c-5889-4804-a195-a2fb33923172"
      },
      "outputs": [
        {
          "name": "stdout",
          "output_type": "stream",
          "text": [
            "According to the difficulty levels provided for each recipe, here's an analysis of which one might be considered more challenging:\n",
            "\n",
            "1. 신림 순대촌이 우리 집에 볶는 이 음식은 모든 재료를 조리해야 하므로 여러 단계가 필요합니다. 특히 양배추와 깻잎을 추가로 볶아야 해서, 중급자 수준으로 보입니다.\n",
            "\n",
            "2. 빗물만들기에서 조리 시간이 30분으로 적절하지만, 다양한 재료를 준비하고 여러 단계의 조리를 필요로 하므로, 중급자 수준으로 판단합니다.\n",
            "\n",
            "3. 김치찌개는 조리 과정이 명확하게 기재되어 있지만, 양배추와 깻잎을 추가로 볶아야 하는 점이 복잡할 수 있으므로, 중급자 수준으로 보입니다.\n",
            "\n",
            "4. 빽순대볶음은 여러 가지 재료를 준비하고 조리해야 하며, 특히 부추와 깻잎, 들기름 등을 추가로 볶아서 양배추의 본래 맛을 살리려면 많은 노력이 필요합니다. 중급자 수준으로 판단됩니다.\n",
            "\n",
            "5. 밥을 넣어 볶는 음식은 조리 시간이 30분이고 재료의 종류와 양이 많지 않아 상급자에게 어려움이 없을 것으로 보입니다. 그러나 여러 가지 빵과 다양한 소스를 준비하고 조리해야 하므로, 중급자 수준으로 보는 게 적절할 것입니다.\n",
            "\n",
            "6-8번은 각각의 재료 볶기만 해도 복잡한 조리 과정이 요구되는 것으로 보입니다. 이런 점을 고려하면, 이 두 메뉴는 상급자에게 어려움이 있을 수 있습니다.\n",
            "\n",
            "따라서 가장 어렵게 평가될 수 있는 메뉴는 신림 순대촌이 우리 집에 볶는 음식과 빽순대볶음입니다. 양배추와 깻잎을 추가로 조리해야 하거나 여러 가지 재료를 동시에 준비하고 조리는 중급자 이상의 기술과 시간을 필요로 합니다.\n"
          ]
        }
      ],
      "source": [
        "# \n",
        "question = \"30분 이내에 만들 수 있는 요리 추천해줘\"\n",
        "answer = rag_chain.invoke(question)\n",
        "print(answer)"
      ]
    },
    {
      "cell_type": "code",
      "execution_count": 13,
      "metadata": {
        "colab": {
          "base_uri": "https://localhost:8080/"
        },
        "id": "EfPcJqx32kgT",
        "outputId": "9711204e-1d14-4bbe-9b52-66cef6d5cdd7"
      },
      "outputs": [
        {
          "name": "stdout",
          "output_type": "stream",
          "text": [
            "Based on the cooking difficulties described in the provided recipes, here's an analysis of which recipe might be considered more challenging:\n",
            "\n",
            "Recipe 1 (참외 피클):\n",
            "- It involves multiple steps like washing and preparing various ingredients, thin slicing them, soaking with salt water, then steaming or simmering.\n",
            "- The final combination also includes making a spicy dipping sauce. Overall complexity is moderate to high due to the numerous steps and types of preparation needed.\n",
            "\n",
            "Recipe 2 (비올 때 생각나는 수제비):\n",
            "- While it has several stages like mixing dough, cooling, slicing vegetables, cooking in broth, and finishing with seasoning.\n",
            "- The difficulty seems lower when compared to Recipe 1. It requires basic skills for mixing, simmering soup, and preparing small quantities of ingredients.\n",
            "\n",
            "Considering these points, the \"참외 피클\" recipe (Recipe 2) might be considered more challenging due to its comprehensive preparation steps and complex final combination.\n"
          ]
        }
      ],
      "source": [
        "question = \"토마토를 이용한 간단한 요리 추천해줘\"\n",
        "answer = rag_chain.invoke(question)\n",
        "print(answer)"
      ]
    },
    {
      "cell_type": "code",
      "execution_count": 14,
      "metadata": {
        "colab": {
          "base_uri": "https://localhost:8080/"
        },
        "id": "anVlR62Y2kgT",
        "outputId": "5ed05594-cf61-422a-d0d8-68a807f83fa0"
      },
      "outputs": [
        {
          "name": "stdout",
          "output_type": "stream",
          "text": [
            "Let's analyze the difficulties level of each recipe based on their ingredients and cooking steps. The main criteria for determining difficulty are the number of ingredients used, the complexity of mixing, cooking time, and the need for multiple steps.\n",
            "\n",
            "1. **기름이 부드럽게 올라가도록 재우고 청경채를 넣어 볶아요.**\n",
            "   - Difficulty: *초*\n",
            "   \n",
            "2. **양념장과 양파를 볶아서 소스로 만들고, 그 후 양념장과 같이 볶아서 단백질 요리에 활용합니다.**\n",
            "   - Difficulty: *간*\n",
            "\n",
            "3. **대형 양배추가 구워지면 만들어둔 양념장을 넣어 볶아요.**\n",
            "   - Difficulty: *중*\n",
            "\n",
            "4. **생강, 채소, 조미료를 모두 함께 볶는다.**\n",
            "   - Difficulty: *간*\n",
            "\n",
            "5. **대형 양배추가 구워지면 만들어둔 양념장을 넣어 볶아요.**\n",
            "   - Difficulty: *중*\n",
            "\n",
            "6. **채소가 구워지면 만들어둔 양념장을 넣어 볶아요.**\n",
            "   - Difficulty: *간*\n",
            "\n",
            "7. **양념과 잘 섞어 꿀 또는 알룰로스를 넣어 볶아요.**\n",
            "   - Difficulty: *중*\n",
            "\n",
            "8. **청경채를 넣어 빠르게 볶아 불을 끄고 참기름을 둘러 매콤허니두부조림을 완성해요.**\n",
            "   - Difficulty: *간*\n",
            "\n",
            "9. **현미밥 위에 올려서 후추와 깨소금을 뿌려 완성해요.**\n",
            "   - Difficulty: *초*\n",
            "\n",
            "10. **강력분, 물, 소금 등을 넣고 고속으로 반죽한다.**\n",
            "    - Difficulty: *중*\n",
            "\n",
            "Based on this analysis, the difficulty levels are as follows:\n",
            "- 4 and 5 are classified as *중* (medium) because they involve multiple steps of cooking with various ingredients.\n",
            "- 1, 2, 6, 7, and 9 are categorized as *간* (moderate or intermediate), including recipes that require combining different components and some medium complexity.\n",
            "- The remaining one, which is the recipe for \"포카치아\", stands out as being relatively simple.\n",
            "\n",
            "Therefore, the final answer is:\n",
            "\n",
            "기름이 부드럽게 올라가도록 재우고 청경채를 넣어 볶아요: *초*\n",
            "대형 양배추가 구워지면 만들어둔 양념장을 넣어 볶아요: *중*\n"
          ]
        }
      ],
      "source": [
        "question = \"두부를 이용한 요리를 하나 추천하고 조리 방법을 알려주고 출처도 표시해줘\"\n",
        "answer = rag_chain.invoke(question)\n",
        "print(answer)"
      ]
    },
    {
      "cell_type": "code",
      "execution_count": 15,
      "metadata": {
        "colab": {
          "base_uri": "https://localhost:8080/"
        },
        "id": "8kcnO1yy2kgT",
        "outputId": "31161a39-df91-4649-ba22-ff958cf947f9"
      },
      "outputs": [
        {
          "name": "stdout",
          "output_type": "stream",
          "text": [
            "Based on the difficulties provided for each recipe, I would rank these recipes from easiest to hardest as follows:\n",
            "\n",
            "1. \"당근요리\" (Easy): This recipe only requires a few ingredients and has straightforward instructions that are easy to follow.\n",
            "2. \"다이어트는 곤약밥으로 시작  냉동도시락 7일치 만들기\" (Medium-Hard): Although it involves multiple steps including preparation of different ingredients, the overall difficulty is higher due to its longer cooking time and more complex procedures.\n",
            "3. \"당 싸요리\" (Hard): This recipe has a high difficulty level mainly because of its numerous steps, diverse ingredients requiring various preparations, and extensive final mixing process.\n",
            "\n",
            "Therefore, the ranking from easiest to hardest would be:\n",
            "1. 당근요리\n",
            "2. 다이어트는 곤약밥으로 시작  냉동도시락 7일치 만들기\n",
            "3. 당 싸요리\n"
          ]
        }
      ],
      "source": [
        "question = \"짜장면 만드는 방법 알려줘\"\n",
        "answer = rag_chain.invoke(question)\n",
        "print(answer)"
      ]
    },
    {
      "cell_type": "code",
      "execution_count": 16,
      "metadata": {},
      "outputs": [
        {
          "name": "stdout",
          "output_type": "stream",
          "text": [
            "Based on the provided document, here are the steps to make \"This Young's Fish Pancake\" (called 이영자의 붕어빵 in Korean):\n",
            "\n",
            "1. **Prepare Ingredients**: Prepare 1 cucumber, 1 shiitake mushroom, and half a white part of ginger, as well as 100g pork belly meat for stewing, one tablespoon of vinegar, a little amount of sesame oil, a little amount of green onion, soy sauce, sesame seeds.\n",
            "\n",
            "2. **Stew Pork Belly**: \n",
            "   - Mix all ingredients in a bowl and let it sit.\n",
            "   - Heat the wok (or pan) and add some sesame oil.\n",
            "   - Stir-fry the pork belly until browned.\n",
            "   \n",
            "3. **Prepare Cucumber, Shiitake Mushrooms, and Green Onion**:\n",
            "   - Cut cucumber into thin slices.\n",
            "   - Clean shiitake mushrooms thoroughly.\n",
            "   - Clean green onions and cut them diagonally.\n",
            "\n",
            "4. **Combine**: \n",
            "   - Add stewed pork belly to the wok with sliced cucumber, chopped mushrooms, and sliced green onions.\n",
            "   - Stir-fry until everything is heated evenly and add sesame oil last for a nice aroma and flavor.\n",
            "\n",
            "5. **Add Sesame Seeds**:\n",
            "   - Pour in sesame seeds at the end of cooking to garnish and enhance its texture and taste.\n",
            "\n",
            "6. **Serve**: \n",
            "   - Use the fish pancake machine, apply some batter on it, put the stewed pork belly mixture as a filling, cover with another layer of batter and fry until golden brown.\n",
            "   \n",
            "This recipe is relatively straightforward compared to other recipes listed in the document, but it still requires careful attention during preparation and cooking. The key steps are ensuring all ingredients cook evenly and adding sesame seeds at the very end for best results.\n",
            "\n",
            "The difficulty level is indicated as medium based on the given text's description of the complexity involved.\n"
          ]
        }
      ],
      "source": [
        "question = \"백종원 요리 추천해줘\"\n",
        "answer = rag_chain.invoke(question)\n",
        "print(answer)"
      ]
    }
  ],
  "metadata": {
    "accelerator": "GPU",
    "colab": {
      "gpuType": "T4",
      "provenance": []
    },
    "kernelspec": {
      "display_name": "qwen",
      "language": "python",
      "name": "python3"
    },
    "language_info": {
      "codemirror_mode": {
        "name": "ipython",
        "version": 3
      },
      "file_extension": ".py",
      "mimetype": "text/x-python",
      "name": "python",
      "nbconvert_exporter": "python",
      "pygments_lexer": "ipython3",
      "version": "3.11.10"
    }
  },
  "nbformat": 4,
  "nbformat_minor": 0
}
