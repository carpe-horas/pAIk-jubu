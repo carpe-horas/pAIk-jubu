{
  "cells": [
    {
      "cell_type": "code",
      "execution_count": 1,
      "metadata": {
        "colab": {
          "base_uri": "https://localhost:8080/"
        },
        "collapsed": true,
        "id": "83hXCv7Q8672",
        "outputId": "e85a2c23-1157-4365-e93d-5760f4e69685"
      },
      "outputs": [
        {
          "name": "stdout",
          "output_type": "stream",
          "text": [
            "\u001b[31mERROR: Could not find a version that satisfies the requirement langchain_text_splitter (from versions: none)\u001b[0m\u001b[31m\n",
            "\u001b[0m\u001b[31mERROR: No matching distribution found for langchain_text_splitter\u001b[0m\u001b[31m\n",
            "\u001b[0m"
          ]
        }
      ],
      "source": [
        "! pip install -q langchain_community\n",
        "! pip install -q langchain_text_splitter\n",
        "! pip install -q langchain_openai\n",
        "! pip install -q faiss-cpu"
      ]
    },
    {
      "cell_type": "code",
      "execution_count": 2,
      "metadata": {
        "colab": {
          "base_uri": "https://localhost:8080/"
        },
        "id": "9DAPLeIaAKQv",
        "outputId": "1256e97f-ebe5-4c52-ef8f-6e8f8fd91867"
      },
      "outputs": [
        {
          "name": "stdout",
          "output_type": "stream",
          "text": [
            "Current path: /Users/khuh/AI-Training/LLM-RAG\n"
          ]
        }
      ],
      "source": [
        "import os\n",
        "\n",
        "current_path = os.getcwd()\n",
        "print(\"Current path:\", current_path)\n",
        "\n",
        "# colab의 보안 비밀에 OPENAI_API_KEY를 등록해서 환경변수로 설정\n",
        "#from google.colab import userdata\n",
        "#\n",
        "#os.environ['OPENAI_API_KEY'] = userdata.get('OPENAI_API_KEY')"
      ]
    },
    {
      "cell_type": "code",
      "execution_count": 3,
      "metadata": {},
      "outputs": [],
      "source": [
        "import os\n",
        "import dotenv\n",
        "from dotenv import load_dotenv\n",
        "\n",
        "load_dotenv()\n",
        "\n",
        "# OpenAI API 키 로드\n",
        "api_key = os.getenv(\"OPENAI_API_KEY\")"
      ]
    },
    {
      "cell_type": "code",
      "execution_count": 4,
      "metadata": {
        "id": "d0ciVw358vMH"
      },
      "outputs": [],
      "source": [
        "from langchain_text_splitters import RecursiveCharacterTextSplitter\n",
        "from langchain_community.document_loaders.csv_loader import CSVLoader\n",
        "from langchain_community.vectorstores import FAISS\n",
        "from langchain_core.output_parsers import StrOutputParser\n",
        "from langchain_core.runnables import RunnablePassthrough\n",
        "from langchain_openai import ChatOpenAI, OpenAIEmbeddings"
      ]
    },
    {
      "cell_type": "code",
      "execution_count": null,
      "metadata": {
        "colab": {
          "base_uri": "https://localhost:8080/"
        },
        "id": "mbqz7gvzWwQT",
        "outputId": "ad99badf-e121-4b03-db3b-414f716a31fc"
      },
      "outputs": [],
      "source": [
        "## from google.colab import drive\n",
        "## drive.mount('/content/drive')"
      ]
    },
    {
      "cell_type": "code",
      "execution_count": 5,
      "metadata": {
        "colab": {
          "base_uri": "https://localhost:8080/"
        },
        "id": "Mn9eFoKmXJq8",
        "outputId": "30b4c497-af87-4c76-bd49-1f4a97870376"
      },
      "outputs": [
        {
          "name": "stdout",
          "output_type": "stream",
          "text": [
            "Loaded 5612 documents from the csv.\n"
          ]
        }
      ],
      "source": [
        "loader = CSVLoader(file_path=\"recipies_add_dif-241019.csv\", encoding='utf-8')\n",
        "data = loader.load()\n",
        "print(f\"Loaded {len(data)} documents from the csv.\")"
      ]
    },
    {
      "cell_type": "code",
      "execution_count": 6,
      "metadata": {
        "colab": {
          "base_uri": "https://localhost:8080/"
        },
        "id": "h-ldy2GEXmIn",
        "outputId": "a79b578f-691f-4490-d065-abdabfd647db"
      },
      "outputs": [
        {
          "data": {
            "text/plain": [
              "5977"
            ]
          },
          "execution_count": 6,
          "metadata": {},
          "output_type": "execute_result"
        }
      ],
      "source": [
        "#위에서 불러온 csv 데이터 청크\n",
        "#RecursiveCharacterTextSplitter를 사용\n",
        "text_splitter = RecursiveCharacterTextSplitter(chunk_size=1000, chunk_overlap=100)\n",
        "\n",
        "splits = text_splitter.split_documents(data)\n",
        "len(splits)"
      ]
    },
    {
      "cell_type": "code",
      "execution_count": 7,
      "metadata": {
        "id": "EpQh4lDuY4Qo"
      },
      "outputs": [
        {
          "name": "stderr",
          "output_type": "stream",
          "text": [
            "/var/folders/py/mwpg_rm904g6ld02xtcmncwh0000gn/T/ipykernel_46416/1859621569.py:6: LangChainDeprecationWarning: The class `OpenAIEmbeddings` was deprecated in LangChain 0.0.9 and will be removed in 1.0. An updated version of the class exists in the :class:`~langchain-openai package and should be used instead. To use it run `pip install -U :class:`~langchain-openai` and import as `from :class:`~langchain_openai import OpenAIEmbeddings``.\n",
            "  embedding_model = OpenAIEmbeddings(model=\"text-embedding-3-small\")\n"
          ]
        }
      ],
      "source": [
        "from langchain.embeddings import OpenAIEmbeddings\n",
        "from langchain.vectorstores import FAISS\n",
        "\n",
        "# 원하는 임베딩 모델 지정\n",
        "# test-embedding-ada-002, text-embedding-3-small, text-embedding-3-large 사용 가능\n",
        "embedding_model = OpenAIEmbeddings(model=\"text-embedding-3-small\")\n",
        "#\n",
        "# 문서와 함께 FAISS 벡터 스토어 생성\n",
        "vectorstore = FAISS.from_documents(documents=splits, embedding=embedding_model)\n",
        "# 소요시간 # 2m 27.3s"
      ]
    },
    {
      "cell_type": "code",
      "execution_count": 8,
      "metadata": {
        "id": "QHvLzxbaXxNt"
      },
      "outputs": [],
      "source": [
        "### 벡터스토리에서 검색하는 retriever를 만들고 벡터스토어를 로컬에 저장합니다.\n",
        "### 이미 저장한 경우 이 단계는 건너뜀\n",
        "## text-embedding-ada-002 모델로 생성한 벡터스토어 저장\n",
        "vectorstore.save_local('db/faiss241019-3-small')\n",
        "# 리트리버 생성\n",
        "retriever = vectorstore.as_retriever()"
      ]
    },
    {
      "cell_type": "code",
      "execution_count": 9,
      "metadata": {
        "colab": {
          "base_uri": "https://localhost:8080/"
        },
        "id": "U6yRBTgC2kgR",
        "outputId": "f6165d44-d730-4007-f8a8-b8e86e3d4deb"
      },
      "outputs": [
        {
          "name": "stderr",
          "output_type": "stream",
          "text": [
            "/var/folders/py/mwpg_rm904g6ld02xtcmncwh0000gn/T/ipykernel_46416/4099274716.py:12: LangChainDeprecationWarning: The method `BaseRetriever.get_relevant_documents` was deprecated in langchain-core 0.1.46 and will be removed in 1.0. Use :meth:`~invoke` instead.\n",
            "  results = retriever.get_relevant_documents(query)\n"
          ]
        },
        {
          "name": "stdout",
          "output_type": "stream",
          "text": [
            "title: 토마토잼   토마토러버라면 도전\n",
            "servings: 6 servings\n",
            "cooking_time: PT30H-1710M\n",
            "ingredients: 토마토 5개,설탕 200g,소금 1/4숟가락,레몬즙 1/2숟가락\n",
            "cooking_orders: ['1. 토마토는 열십자로 칼집을 내어 끓는물에 데친다.', '2. 껍질과 꼭지를 제거한다.', '3. 믹서에 간다.', '4. 냄비에 간 토마토, 설탕을 붓고 60분간 끓인다.', '5. 걸쭉한 농도가 되면 소금, 레몬즙을 넣고 10분간 끓인다.', '6. 소독해둔 용기에 담아 완성한다.']\n",
            "url: https://www.10000recipe.com//recipe/6897583\n",
            "reason: 조리 시간이 길며, 재료와 조리법이 상당히 많습니다. 또한, 여러 단계의 복잡한 조리 과정이 포함되어 있어 '상'난이도로 판단되었습니다.\n",
            "difficulties: 상\n",
            "﻿title: 그릭요거트와 토마토의 만남  그릭토마토샐러드\n",
            "servings: 1 servings\n",
            "cooking_time: PT10M\n",
            "ingredients: 토마토 1개,그릭요거트 1/2종이컵,호두분태 1숟가락,꿀 1숟가락,샐러드채소 1줌,발사믹글레이즈 약간\n",
            "cooking_orders: ['1. 토마토는 윗 부분을 자르고 속을 파낸다.', '2. 볼에 그릭요거트, 호두분태, 꿀을 넣고 섞는다.', '3. 토마토에 섞은 요거트를 채운다.', '4. 그릇에 샐러드 채소, 그릭토마토를 담고 발사믹글레이즈를 뿌려 완성한다.']\n",
            "url: https://www.10000recipe.com//recipe/6968519\n",
            "reason: 조리 시간은 10분으로 적당합니다. 재료의 종류는 7가지이며, 조리 과정은 4단계로 간단합니다. 그러나, 재료들의 조합과 순서에 따라 맛이 달라질 수 있어 어느 정도의 조리 기술이 필요합니다.\n",
            "difficulties: 중\n",
            "﻿title: 토마토파르시   홈파티에 딱이네\n",
            "servings: 2 servings\n",
            "cooking_time: PT30M\n",
            "ingredients: 토마토 4개,모짜렐라치즈 1/2종이컵,돼지고기다짐육 200g,다진양파 1/4개,토마토소스 1종이컵,소금 약간,후추 약간\n",
            "cooking_orders: ['1. 토마토는 윗부분을 잘라 내어 속을 파낸다.', '2. 팬에 양파를 볶다가 돼지고기, 소금, 후추를 넣어 볶는다.', '3. 토마토소스를 넣어 볶는다.', '4. 토마토 속에 볶은재료를 채워 넣고 치즈를 올린다.', '5. 180도 예열한 오븐에 15분간 돌려 완성한다.']\n",
            "url: https://www.10000recipe.com//recipe/6894333\n",
            "reason: 조리 시간은 30분으로 짧지만, 재료와 조리법이 다소 복잡하여 중급 수준으로 판단하였습니다. 여러 가지 재료와 다양한 조리 단계가 포함되어 있어 초보자에게는 조금 어려울 수 있습니다.\n",
            "difficulties: 중\n",
            "﻿title: 역시 홈메이드가 짜세  토마토소스\n",
            "servings: 2 servings\n",
            "cooking_time: PT30M\n",
            "ingredients: 토마토 4개,다진 양파 1개,다진 마늘 2숟가락,올리브유 4숟가락,소금 약간,설탕 약간,후추 약간,월계수잎 2장\n",
            "cooking_orders: ['1. 토마토는 꼭지 를 제거하고 꼭지 반대편에 + 십자 모양의 칼집을 낸다.', '2. 끓는 물에 토마토를 30초 정도 데친 후 찬물에 담가 열을 식힌다.', '3. 데친 토마토는 껍질을 벗기고 적당한 크기로 썬다.', '4. 팬에 올리브오일을 넣고 다진 양파, 마늘을 넣는다.', '5. 양파가 투명해지면 토마토를 넣는다.', '6. 소금, 설탕 ,후추로 간한 후 15~20분간 중약불로 뭉근히 끓여준다.', '7. 식힌 후 밀폐용기에 담는다.']\n",
            "url: https://www.10000recipe.com//recipe/6878996\n",
            "reason: 이 요리는 간단한 재료와 단순한 조리 과정을 가지고 있습니다. 그러나 토마토를 데우는 과정이 필요하며, 이를 위해 끓는 물과 찬물이 필요합니다. 또한 소금, 설탕, 후추를 사용하여 간하는 과정이 있으나, 이는 기본적인 조리법으로 볼 수 있습니다. 전체적으로 요리는 쉽게 만드는 데 필요한 요소들이 포함되어 있지만, 데우는 과정 때문에 중급 수준으로 분류됩니다.\n",
            "difficulties: 중\n"
          ]
        }
      ],
      "source": [
        "#from langchain.vectorstores import FAISS\n",
        "#from langchain.embeddings.openai import OpenAIEmbeddings\n",
        "\n",
        "# 저장된 벡터스토어 로드\n",
        "#vectorstore = FAISS.load_local('db/faiss241019-test1', OpenAIEmbeddings(), allow_dangerous_deserialization=True)\n",
        "\n",
        "# 로드된 벡터스토어에서 retriever 생성\n",
        "#retriever = vectorstore.as_retriever()\n",
        "\n",
        "# 검색 예시\n",
        "query = \"토마토\"\n",
        "results = retriever.get_relevant_documents(query)\n",
        "\n",
        "# 검색 결과 출력\n",
        "for result in results:\n",
        "    print(result.page_content)\n"
      ]
    },
    {
      "cell_type": "code",
      "execution_count": 16,
      "metadata": {
        "id": "QjGUxahS9JjE"
      },
      "outputs": [],
      "source": [
        "from langchain_core.prompts import PromptTemplate\n",
        "\n",
        "prompt = PromptTemplate.from_template(\n",
        "    \"\"\"당신은 질문-답변(Question-Answering)을 수행하는 친절한 AI 어시스턴트입니다. \n",
        "    당신의 임무는 주어진 문맥(context) 에서 주어진 질문(question) 에 답하는 것입니다.\n",
        "    검색된 다음 문맥(context) 을 사용하여 질문(question) 에 답하세요. \n",
        "    요리를 추천할 때는 3개의 가장 유사한 요리를 요리 제목과 함께 추천해주세요.\n",
        "    요리 방법을 답할때는 재료를 목록으로 요리 순서를 목록으로 출력하고 출처도 함께 표시해줘.\n",
        "    만약, 주어진 문맥(context) 에서 답을 찾을 수 없다면, 답을 모른다면 `주어진 정보에서 질문에 대한 정보를 찾을 수 없습니다` 라고 답하세요.\n",
        "    항상 한국어로 답변해주세요.\n",
        "\n",
        "#Question:\n",
        "{question}\n",
        "\n",
        "#Context:\n",
        "{context}\n",
        "\n",
        "#Answer:\"\"\"\n",
        ")"
      ]
    },
    {
      "cell_type": "code",
      "execution_count": 35,
      "metadata": {
        "id": "nkGUOXTpbVCW"
      },
      "outputs": [],
      "source": [
        "# !pip install huggingface_hub"
      ]
    },
    {
      "cell_type": "code",
      "execution_count": 36,
      "metadata": {
        "id": "Nore3AEpgpCZ"
      },
      "outputs": [],
      "source": [
        "# os.environ['HUGGINGFACEHUB_API_TOKEN'] = userdata.get('HF_TOKEN')"
      ]
    },
    {
      "cell_type": "code",
      "execution_count": 37,
      "metadata": {
        "id": "grX0lPNZiC9t"
      },
      "outputs": [],
      "source": [
        "#from langchain import LLMChain\n",
        "#from langchain.prompts import PromptTemplate\n",
        "#from langchain.llms import HuggingFaceHub\n",
        "#\n",
        "# HuggingFace Repository ID\n",
        "#repo_id = 'Qwen/Qwen2.5-3B-Instruct'\n",
        "#\n",
        "## HuggingFaceHub 객체 생성\n",
        "#llm = HuggingFaceHub(\n",
        "#    repo_id=repo_id,\n",
        "#    model_kwargs={\"temperature\": 0.1, }\n",
        "#)\n",
        "\n",
        "# 체인을 생성합니다.\n",
        "#rag_chain = (\n",
        "#    {\"context\": retriever, \"question\": RunnablePassthrough()}\n",
        "#    | prompt\n",
        "#    | llm\n",
        "#    | StrOutputParser()\n",
        "#)"
      ]
    },
    {
      "cell_type": "code",
      "execution_count": 38,
      "metadata": {
        "id": "L9zIqWm-9SmX"
      },
      "outputs": [],
      "source": [
        "# huggingface에서 모델을 가져와서 답변을 생성하는데에 너무 많은 시간이 걸려서 중단 시킴\n",
        "#question = \"30분 이내에 만들 수 있는 요리 추천해줘\"\n",
        "#answer = rag_chain.invoke(question)\n",
        "#print(answer)"
      ]
    },
    {
      "cell_type": "code",
      "execution_count": 17,
      "metadata": {
        "id": "Sd6ZVUhtpsb6"
      },
      "outputs": [],
      "source": [
        "# ChatGPT model 사용\n",
        "llm = ChatOpenAI(model_name=\"gpt-4o-mini\", temperature=0)\n",
        "\n",
        "# 체인을 생성합니다.\n",
        "rag_chain = (\n",
        "    {\"context\": retriever, \"question\": RunnablePassthrough()}\n",
        "    | prompt\n",
        "    | llm\n",
        "    | StrOutputParser()\n",
        ")"
      ]
    },
    {
      "cell_type": "code",
      "execution_count": 18,
      "metadata": {
        "colab": {
          "base_uri": "https://localhost:8080/"
        },
        "id": "XQJesWygqGdt",
        "outputId": "6604527c-5889-4804-a195-a2fb33923172"
      },
      "outputs": [
        {
          "name": "stdout",
          "output_type": "stream",
          "text": [
            "30분 이내에 만들 수 있는 요리로 다음의 세 가지를 추천합니다:\n",
            "\n",
            "1. [요리 1](https://www.10000recipe.com//recipe/6834113)\n",
            "2. [요리 2](https://www.10000recipe.com//recipe/6949576)\n",
            "3. [요리 3](https://www.10000recipe.com//recipe/7020135)\n",
            "\n",
            "각 요리는 조리 시간이 30분으로 상대적으로 짧고, 다양한 재료와 조리 방법이 포함되어 있습니다. 요리의 난이도는 중급 정도로, 초보자에게는 약간의 도전이 될 수 있습니다.\n"
          ]
        }
      ],
      "source": [
        "# gpt-4o-mini 이용할 경우 수초내에 답변 생성완료\n",
        "question = \"30분 이내에 만들 수 있는 요리 추천해줘\"\n",
        "answer = rag_chain.invoke(question)\n",
        "print(answer)"
      ]
    },
    {
      "cell_type": "code",
      "execution_count": 19,
      "metadata": {
        "colab": {
          "base_uri": "https://localhost:8080/"
        },
        "id": "EfPcJqx32kgT",
        "outputId": "9711204e-1d14-4bbe-9b52-66cef6d5cdd7"
      },
      "outputs": [
        {
          "name": "stdout",
          "output_type": "stream",
          "text": [
            "토마토를 이용한 간단한 요리로 다음 세 가지를 추천합니다:\n",
            "\n",
            "1. **간단한 메밀국수육수로 만든 토마토소바**\n",
            "   - **재료**: 메밀면 150g, 쪽파 1줄, 김가루 약간, 쯔유 1숟가락, 다시마육수 2종이컵, 방울토마토 150g, 다시마육수 1종이컵, 간장 1숟가락, 설탕 1숟가락, 레몬즙 약간\n",
            "   - **조리 방법**:\n",
            "     1. 방울토마토에 십자로 칼집을 낸 후 끓는 물에 데쳐 찬물에 헹군다.\n",
            "     2. 토마토 껍질을 벗겨 냄비에 넣고 다시마육수, 간장, 설탕, 레몬즙을 넣고 3분간 끓인다.\n",
            "     3. 토마토조림은 한 김 식힌 후 냉장고에 보관하여 차갑게 둔다.\n",
            "     4. 쪽파는 송송 썬다.\n",
            "     5. 쯔유와 다시마육수는 섞어 차갑게 준비한다.\n",
            "     6. 끓는 물에 메밀면을 삶아 얼음물에 헹군 뒤 물기를 제거한다.\n",
            "     7. 그릇에 면을 담고 토마토조림, 쪽파, 김가루를 올린 후 육수를 부어 완성한다.\n",
            "   - [레시피 출처](https://www.10000recipe.com//recipe/6960987)\n",
            "\n",
            "2. **간단한 안주 토마토카프레제**\n",
            "   - **재료**: 토마토 2개, 생모짜렐라치즈 2개, 소금 약간, 후추 약간, 시판발사믹소스 1/2종이컵, 다진양파 1숟가락, 어린잎채소 약간\n",
            "   - **조리 방법**:\n",
            "     1. 토마토, 생 모짜렐라 치즈는 슬라이스 하여 준비한다.\n",
            "     2. 토마토와 생 모짜렐라 치즈에 소금, 후추로 밑간을 한다.\n",
            "     3. 볼에 소스 재료를 넣어 섞어 소스를 만든다.\n",
            "     4. 그릇에 토마토, 생 모짜렐라 치즈를 번갈아 가며 놓는다.\n",
            "     5. 소스를 뿌리고 어린잎 채소를 올려 완성한다.\n",
            "   - [레시피 출처](https://www.10000recipe.com//recipe/6890875)\n",
            "\n",
            "3. **TV요리 토마토치즈제육볶음**\n",
            "   - **재료**: 돼지고기 앞다리살 200g, 양파 1/4개, 토마토 1개, 양송이버섯 2개, 청양고추 1개, 토마토 소스 1종이컵, 모짜렐라 치즈 1종이컵, 물 1/2종이컵, 고추장 1숟가락, 간장 1숟가락, 고춧가루 1숟가락, 다진 마늘 1/2숟가락, 맛술 2숟가락, 후추 약간, 올리고당 1숟가락\n",
            "   - **조리 방법**:\n",
            "     1. 양파는 채 썰고 양송이는 얇게 썰고 토마토는 큼직하게 썰고 청양고추는 다져서 준비한다.\n",
            "     2. 고기는 양파와 양념 재료를 넣어 버무려 재운다.\n",
            "     3. 예열된 팬에 재워 놓은 고기를 넣어 볶는다.\n",
            "     4. 고기가 익으면 토마토, 양송이버섯, 토마토 소스, 물을 붓고 약 7~8분간 졸인다.\n",
            "     5. 청양고추를 넣고 모짜렐라 치즈를 올려 뚜껑을 닫아 치즈를 녹여 완성한다.\n",
            "   - [레시피 출처](https://www.10000recipe.com//recipe/6903216)\n",
            "\n",
            "이 요리들은 간단하면서도 맛있게 즐길 수 있는 메뉴입니다!\n"
          ]
        }
      ],
      "source": [
        "question = \"토마토를 이용한 간단한 요리 추천해줘\"\n",
        "answer = rag_chain.invoke(question)\n",
        "print(answer)"
      ]
    },
    {
      "cell_type": "code",
      "execution_count": 20,
      "metadata": {
        "colab": {
          "base_uri": "https://localhost:8080/"
        },
        "id": "anVlR62Y2kgT",
        "outputId": "5ed05594-cf61-422a-d0d8-68a807f83fa0"
      },
      "outputs": [
        {
          "name": "stdout",
          "output_type": "stream",
          "text": [
            "추천하는 요리는 **두부조림**입니다. 아래는 두부조림의 조리 방법입니다.\n",
            "\n",
            "### 재료\n",
            "- 두부 290g\n",
            "- 진간장 7스푼\n",
            "- 송송썰은 파 3스푼\n",
            "- 다진 마늘 1/3스푼\n",
            "- 참기름 1/2스푼\n",
            "- 통깨 1/3스푼\n",
            "- 고춧가루 1/2스푼\n",
            "- 설탕 1/2스푼\n",
            "- 물 50ml\n",
            "- 식용유 1스푼\n",
            "\n",
            "### 조리 순서\n",
            "1. 두부를 도톰한 두께로 썰어 주세요.\n",
            "2. 식용유 1스푼을 두른 팬에 노릇하게 부쳐서 준비합니다.\n",
            "3. 분량의 진간장, 파, 다진 마늘, 참기름, 통깨, 고춧가루, 설탕을 넣고 양념장을 만들어 줍니다.\n",
            "4. 냄비에 사진처럼 노릇하게 부쳐낸 두부를 한 켜 깔고, 양념장을 올려줍니다.\n",
            "5. 물 50ml를 넣고, 강불에서 국물이 자작해질 때까지 졸여줍니다.\n",
            "6. 끓이는 중간중간에 수저로 국물을 떠서 두부에 얹어주면 양념이 좀 더 잘 베인답니다. 두부조림 완성.\n",
            "\n",
            "출처: [10,000 Recipe](https://www.10000recipe.com//recipe/4102401)\n"
          ]
        }
      ],
      "source": [
        "question = \"두부를 이용한 요리를 하나 추천하고 조리 방법을 알려주고 출처도 표시해줘\"\n",
        "answer = rag_chain.invoke(question)\n",
        "print(answer)"
      ]
    },
    {
      "cell_type": "code",
      "execution_count": 21,
      "metadata": {
        "colab": {
          "base_uri": "https://localhost:8080/"
        },
        "id": "8kcnO1yy2kgT",
        "outputId": "31161a39-df91-4649-ba22-ff958cf947f9"
      },
      "outputs": [
        {
          "name": "stdout",
          "output_type": "stream",
          "text": [
            "짜장면 만드는 방법은 다음과 같습니다.\n",
            "\n",
            "### 재료\n",
            "- 비비고 한섬만두 4개\n",
            "- 칼국수 면 2인분\n",
            "- 춘장 3숟가락\n",
            "- 찹쌀가루 1숟가락\n",
            "- 양파 1개\n",
            "- 대파 1대\n",
            "- 생강 1톨\n",
            "- 설탕 2숟가락\n",
            "- 물 2종이컵\n",
            "\n",
            "### 요리 순서\n",
            "1. 한섬 만두는 실온에 꺼내두어 자연 해동한다.\n",
            "2. 양파, 대파는 한입 크기로 큼직하게 썰어 준비하고 생강은 편으로 썰어 준비한다.\n",
            "3. 해동시킨 만두는 반을 갈라 속을 파내어 준비한다.\n",
            "4. 팬에 기름을 두르고 양파, 대파, 생강 순서로 볶는다.\n",
            "5. 양파가 투명해지면 준비한 만두속을 넣어 볶는다.\n",
            "6. 볶아진 재료에 춘장, 설탕을 넣어 볶는다.\n",
            "7. 재료들이 잘 섞이면 물을 넣어 한소끔 끓인 후 찹쌀가루를 넣어 농도를 맞춘다.\n",
            "8. 면은 끓는 물에 삶아 내어 준비한다.\n",
            "9. 그릇에 면과 짜장 소스를 담아 짜장면을 완성한다.\n",
            "\n",
            "출처: [10,000 Recipe](https://www.10000recipe.com//recipe/6881207)\n",
            "\n",
            "추가로 추천할 수 있는 유사한 요리는 다음과 같습니다:\n",
            "1. **쫄면** - 쫄면과 다양한 채소를 곁들인 요리\n",
            "2. **만두소짜장라면** - 만두소를 활용한 짜장라면\n",
            "3. **냉라면** - 시원한 냉국과 함께 즐기는 라면\n"
          ]
        }
      ],
      "source": [
        "question = \"짜장면 만드는 방법 알려줘\"\n",
        "answer = rag_chain.invoke(question)\n",
        "print(answer)"
      ]
    }
  ],
  "metadata": {
    "accelerator": "GPU",
    "colab": {
      "gpuType": "T4",
      "provenance": []
    },
    "kernelspec": {
      "display_name": "qwen",
      "language": "python",
      "name": "python3"
    },
    "language_info": {
      "codemirror_mode": {
        "name": "ipython",
        "version": 3
      },
      "file_extension": ".py",
      "mimetype": "text/x-python",
      "name": "python",
      "nbconvert_exporter": "python",
      "pygments_lexer": "ipython3",
      "version": "3.11.10"
    }
  },
  "nbformat": 4,
  "nbformat_minor": 0
}
